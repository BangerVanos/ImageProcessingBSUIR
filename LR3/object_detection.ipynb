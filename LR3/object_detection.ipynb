{
 "cells": [
  {
   "cell_type": "code",
   "execution_count": 1,
   "id": "initial_id",
   "metadata": {
    "collapsed": true,
    "ExecuteTime": {
     "end_time": "2023-12-19T11:41:15.774857500Z",
     "start_time": "2023-12-19T11:41:12.849192Z"
    }
   },
   "outputs": [],
   "source": [
    "from ultralytics import YOLO"
   ]
  },
  {
   "cell_type": "code",
   "execution_count": 2,
   "outputs": [],
   "source": [
    "model = YOLO('yolov8n.pt')\n",
    "# model"
   ],
   "metadata": {
    "collapsed": false,
    "ExecuteTime": {
     "end_time": "2023-12-19T11:41:17.179295400Z",
     "start_time": "2023-12-19T11:41:17.140759700Z"
    }
   },
   "id": "5bf52b0aba67f197"
  },
  {
   "cell_type": "code",
   "execution_count": 8,
   "outputs": [
    {
     "name": "stdout",
     "output_type": "stream",
     "text": [
      "image 1/1 D:\\Programms\\Programming\\BSUIR\\ImageProcessingBSUIR\\LR3\\test_images\\human.jpg: 448x640 1 person, 63.8ms\n",
      "Speed: 3.0ms preprocess, 63.8ms inference, 2.0ms postprocess per image at shape (1, 3, 448, 640)\n",
      "Results saved to \u001B[1mD:\\Programms\\Programming\\BSUIR\\ImageProcessingBSUIR\\runs\\detect\\predict3\u001B[0m\n"
     ]
    }
   ],
   "source": [
    "human_detection_result = model.predict('test_images/human.jpg', show=True, save=True)"
   ],
   "metadata": {
    "collapsed": false,
    "ExecuteTime": {
     "end_time": "2023-12-19T11:40:23.973206Z",
     "start_time": "2023-12-19T11:40:21.699396500Z"
    }
   },
   "id": "e82de58a447a2b48"
  },
  {
   "cell_type": "code",
   "execution_count": 9,
   "outputs": [
    {
     "name": "stdout",
     "output_type": "stream",
     "text": [
      "image 1/1 D:\\Programms\\Programming\\BSUIR\\ImageProcessingBSUIR\\LR3\\test_images\\cat.jpg: 448x640 1 cat, 69.8ms\n",
      "Speed: 2.0ms preprocess, 69.8ms inference, 1.0ms postprocess per image at shape (1, 3, 448, 640)\n",
      "Results saved to \u001B[1mD:\\Programms\\Programming\\BSUIR\\ImageProcessingBSUIR\\runs\\detect\\predict3\u001B[0m\n"
     ]
    }
   ],
   "source": [
    "cat_detection_result = model.predict('test_images/cat.jpg', save=True)"
   ],
   "metadata": {
    "collapsed": false,
    "ExecuteTime": {
     "end_time": "2023-12-19T11:40:24.590080700Z",
     "start_time": "2023-12-19T11:40:23.974186800Z"
    }
   },
   "id": "2852770d0acd1b96"
  },
  {
   "cell_type": "code",
   "execution_count": 3,
   "outputs": [
    {
     "name": "stdout",
     "output_type": "stream",
     "text": [
      "image 1/1 D:\\Programms\\Programming\\BSUIR\\ImageProcessingBSUIR\\LR3\\test_images\\car.jpg: 448x640 1 car, 1 truck, 76.8ms\n",
      "Speed: 3.0ms preprocess, 76.8ms inference, 2.0ms postprocess per image at shape (1, 3, 448, 640)\n",
      "Results saved to \u001B[1mD:\\Programms\\Programming\\BSUIR\\ImageProcessingBSUIR\\runs\\detect\\predict4\u001B[0m\n"
     ]
    }
   ],
   "source": [
    "car_detection_result = model.predict('test_images/car.jpg', save=True)"
   ],
   "metadata": {
    "collapsed": false,
    "ExecuteTime": {
     "end_time": "2023-12-19T11:41:23.136701200Z",
     "start_time": "2023-12-19T11:41:21.298814600Z"
    }
   },
   "id": "989f58d156c38199"
  },
  {
   "cell_type": "code",
   "execution_count": null,
   "outputs": [],
   "source": [],
   "metadata": {
    "collapsed": false
   },
   "id": "8d6fcec36a8afe39"
  }
 ],
 "metadata": {
  "kernelspec": {
   "display_name": "Python 3",
   "language": "python",
   "name": "python3"
  },
  "language_info": {
   "codemirror_mode": {
    "name": "ipython",
    "version": 2
   },
   "file_extension": ".py",
   "mimetype": "text/x-python",
   "name": "python",
   "nbconvert_exporter": "python",
   "pygments_lexer": "ipython2",
   "version": "2.7.6"
  }
 },
 "nbformat": 4,
 "nbformat_minor": 5
}
